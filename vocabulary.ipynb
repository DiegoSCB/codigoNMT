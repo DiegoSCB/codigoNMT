{
 "cells": [
  {
   "cell_type": "code",
   "execution_count": 8,
   "metadata": {
    "collapsed": true
   },
   "outputs": [],
   "source": [
    "texto = open(\"C:/Users/Diego/Desktop/TFM/datasets/todojunto_sub/set_train_and_validationV2/text_in_lines_clean.txt\",encoding=\"utf8\",errors='ignore')"
   ]
  },
  {
   "cell_type": "code",
   "execution_count": 9,
   "metadata": {
    "collapsed": true
   },
   "outputs": [],
   "source": [
    "content=texto.readlines(100)"
   ]
  },
  {
   "cell_type": "code",
   "execution_count": 11,
   "metadata": {},
   "outputs": [
    {
     "name": "stdout",
     "output_type": "stream",
     "text": [
      "['\"', 'Hurricane', 'Lucy', 'ripped', 'across', 'Puerto', 'Rico', 'last', 'October', '1', '2', 'causing', 'even', 'greater', 'devastation', 'than', 'Hurricane', 'George', 'twoyears', 'ago', '.']\n"
     ]
    }
   ],
   "source": [
    "for i in content:\n",
    "    a = i.split()\n",
    "    print(a)"
   ]
  }
 ],
 "metadata": {
  "kernelspec": {
   "display_name": "Python 3",
   "language": "python",
   "name": "python3"
  },
  "language_info": {
   "codemirror_mode": {
    "name": "ipython",
    "version": 3
   },
   "file_extension": ".py",
   "mimetype": "text/x-python",
   "name": "python",
   "nbconvert_exporter": "python",
   "pygments_lexer": "ipython3",
   "version": "3.6.1"
  }
 },
 "nbformat": 4,
 "nbformat_minor": 2
}
